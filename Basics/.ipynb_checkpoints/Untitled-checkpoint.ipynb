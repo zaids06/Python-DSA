{
 "cells": [
  {
   "cell_type": "code",
   "execution_count": null,
   "id": "959e3a9a-ed00-4ee5-9766-50278fc7e5cf",
   "metadata": {},
   "outputs": [],
   "source": [
    "# 1234\n",
    "# 1234\n",
    "# 1234"
   ]
  },
  {
   "cell_type": "code",
   "execution_count": 1,
   "id": "4dbf8e91-50a3-4dc2-9c42-7298cc534729",
   "metadata": {},
   "outputs": [
    {
     "name": "stdin",
     "output_type": "stream",
     "text": [
      " 4\n"
     ]
    },
    {
     "name": "stdout",
     "output_type": "stream",
     "text": [
      "1234\n",
      "1234\n",
      "1234\n",
      "1234\n"
     ]
    }
   ],
   "source": [
    "n=(int(input()))\n",
    "j=n\n",
    "while(j>0):\n",
    "    i=1\n",
    "    while(i<=n):\n",
    "        print(i,end='')\n",
    "        i+=1\n",
    "    print()\n",
    "    j-=1"
   ]
  },
  {
   "cell_type": "code",
   "execution_count": 2,
   "id": "8799cfb0-a6d4-48a2-bae3-955e3c1c2799",
   "metadata": {},
   "outputs": [],
   "source": [
    "### next patern"
   ]
  },
  {
   "cell_type": "code",
   "execution_count": null,
   "id": "6f7d9f0b-80d8-49d4-b871-7809ba165a88",
   "metadata": {},
   "outputs": [],
   "source": [
    "# 1111\n",
    "# 2222\n",
    "# 3333\n",
    "# 4444"
   ]
  },
  {
   "cell_type": "code",
   "execution_count": 4,
   "id": "c4a8d46a-9a7a-452d-9144-da626027c75e",
   "metadata": {},
   "outputs": [
    {
     "name": "stdin",
     "output_type": "stream",
     "text": [
      " 4\n"
     ]
    },
    {
     "name": "stdout",
     "output_type": "stream",
     "text": [
      "1111\n",
      "2222\n",
      "3333\n",
      "4444\n"
     ]
    }
   ],
   "source": [
    "n=(int(input()))\n",
    "i=n\n",
    "k=1\n",
    "while(i>0):\n",
    "    j=1\n",
    "    while(j<=n):\n",
    "        print(k,end='')\n",
    "        j+=1\n",
    "    print()\n",
    "    k+=1\n",
    "    i-=1"
   ]
  },
  {
   "cell_type": "code",
   "execution_count": null,
   "id": "ab9c0c12-61d9-4cd0-844c-a2597a202b24",
   "metadata": {},
   "outputs": [],
   "source": [
    "# 4321\n",
    "# 4321\n",
    "# 4321\n",
    "# 4321"
   ]
  },
  {
   "cell_type": "code",
   "execution_count": 5,
   "id": "3c42a071-c318-4eb5-804e-7168c463c6d1",
   "metadata": {},
   "outputs": [
    {
     "name": "stdin",
     "output_type": "stream",
     "text": [
      " 4\n"
     ]
    },
    {
     "name": "stdout",
     "output_type": "stream",
     "text": [
      "4321\n",
      "4321\n",
      "4321\n",
      "4321\n"
     ]
    }
   ],
   "source": [
    "n=(int(input()))\n",
    "i=n\n",
    "while(i>0):\n",
    "    j=4\n",
    "    while(j>0):\n",
    "        print(j,end='')\n",
    "        j-=1\n",
    "    print()\n",
    "    i-=1"
   ]
  },
  {
   "cell_type": "code",
   "execution_count": null,
   "id": "18a2bbfc-0229-4a0d-bfc1-a2bfe7fb8dd5",
   "metadata": {},
   "outputs": [],
   "source": [
    "# 1\n",
    "# 12\n",
    "# 123\n",
    "# 1234"
   ]
  },
  {
   "cell_type": "code",
   "execution_count": 6,
   "id": "92f38c4e-c1bc-42a1-b46a-f29c41d81cef",
   "metadata": {},
   "outputs": [
    {
     "name": "stdin",
     "output_type": "stream",
     "text": [
      " 4\n"
     ]
    },
    {
     "name": "stdout",
     "output_type": "stream",
     "text": [
      "1\n",
      "12\n",
      "123\n",
      "1234\n"
     ]
    }
   ],
   "source": [
    "n=(int(input()))\n",
    "i=1\n",
    "while(i<=n):\n",
    "    j=1\n",
    "    while(j<=i):\n",
    "        print(j,end='')\n",
    "        j+=1\n",
    "    print()\n",
    "    i+=1"
   ]
  },
  {
   "cell_type": "code",
   "execution_count": null,
   "id": "49b16f75-b373-4956-b937-f831c3ceb182",
   "metadata": {},
   "outputs": [],
   "source": [
    "# 1\n",
    "# 23\n",
    "# 345\n",
    "# 4567"
   ]
  },
  {
   "cell_type": "code",
   "execution_count": 7,
   "id": "1eb2a6e4-fa6f-4960-93c8-9768c7025c61",
   "metadata": {
    "scrolled": true
   },
   "outputs": [
    {
     "name": "stdin",
     "output_type": "stream",
     "text": [
      " 4\n"
     ]
    },
    {
     "name": "stdout",
     "output_type": "stream",
     "text": [
      "1\n",
      "23\n",
      "345\n",
      "4567\n"
     ]
    }
   ],
   "source": [
    "n=(int(input()))\n",
    "i=1\n",
    "while(i<=n):\n",
    "    j=1\n",
    "    k=i\n",
    "    while(j<=i):\n",
    "        print(k,end='')\n",
    "        k+=1\n",
    "        j+=1\n",
    "    print()\n",
    "    i+=1"
   ]
  },
  {
   "cell_type": "code",
   "execution_count": null,
   "id": "c4a93437-cc2f-4cb4-aa08-39b05a7fec1e",
   "metadata": {},
   "outputs": [],
   "source": [
    "# 1\n",
    "# 23\n",
    "# 456\n",
    "# 78910"
   ]
  },
  {
   "cell_type": "code",
   "execution_count": 8,
   "id": "dd9594aa-4abd-4b8b-8693-b5a2811fc8db",
   "metadata": {
    "scrolled": true
   },
   "outputs": [
    {
     "name": "stdin",
     "output_type": "stream",
     "text": [
      " 4\n"
     ]
    },
    {
     "name": "stdout",
     "output_type": "stream",
     "text": [
      "1\n",
      "23\n",
      "456\n",
      "78910\n"
     ]
    }
   ],
   "source": [
    "n=(int(input()))\n",
    "i=1\n",
    "k=1\n",
    "while(i<=n):\n",
    "    j=1\n",
    "    while(j<=i):\n",
    "        print(k,end='')\n",
    "        k+=1\n",
    "        j+=1\n",
    "    print()\n",
    "    i+=1"
   ]
  },
  {
   "cell_type": "code",
   "execution_count": null,
   "id": "c07b8545-b40f-473a-8167-6f03717c2807",
   "metadata": {},
   "outputs": [],
   "source": [
    "# ABCD\n",
    "# BCDE\n",
    "# CDEF\n",
    "# DEFG"
   ]
  },
  {
   "cell_type": "code",
   "execution_count": 12,
   "id": "7c7ccc8a-a914-4d38-aa0e-0d57eb2761dc",
   "metadata": {
    "scrolled": true
   },
   "outputs": [
    {
     "name": "stdin",
     "output_type": "stream",
     "text": [
      " 4\n"
     ]
    },
    {
     "name": "stdout",
     "output_type": "stream",
     "text": [
      "ABCD\n",
      "BCDE\n",
      "CDEF\n",
      "DEFG\n"
     ]
    }
   ],
   "source": [
    "n=int(input())\n",
    "i=1\n",
    "while(i<=n):\n",
    "    j=1\n",
    "    k=i\n",
    "    while(j<=n):\n",
    "        print(chr(65+(k-1)),end='')\n",
    "        k+=1\n",
    "        j+=1\n",
    "    print()\n",
    "    i+=1"
   ]
  },
  {
   "cell_type": "code",
   "execution_count": null,
   "id": "c4deb8ee-ca16-44c9-9d0c-eef2c3862e02",
   "metadata": {},
   "outputs": [],
   "source": [
    "# ABCD\n",
    "# ABCD\n",
    "# ABCD\n",
    "# ABCD"
   ]
  },
  {
   "cell_type": "code",
   "execution_count": 13,
   "id": "289627c4-9e4c-4587-9ef1-32f60c34a75a",
   "metadata": {},
   "outputs": [
    {
     "name": "stdin",
     "output_type": "stream",
     "text": [
      " 4\n"
     ]
    },
    {
     "name": "stdout",
     "output_type": "stream",
     "text": [
      "ABCD\n",
      "ABCD\n",
      "ABCD\n",
      "ABCD\n"
     ]
    }
   ],
   "source": [
    "n=int(input())\n",
    "i=1\n",
    "while(i<=n):\n",
    "    j=1\n",
    "    while(j<=n):\n",
    "        print(chr(65+(j-1)),end='')\n",
    "        j+=1\n",
    "    print()\n",
    "    i+=1"
   ]
  },
  {
   "cell_type": "code",
   "execution_count": null,
   "id": "5039038a-2b83-4413-bf5e-e59b2e18a595",
   "metadata": {},
   "outputs": [],
   "source": [
    "#    *\n",
    "#   **\n",
    "#  ***\n",
    "# ****"
   ]
  },
  {
   "cell_type": "code",
   "execution_count": null,
   "id": "ac410f41-6717-4317-8de2-f19b5957be16",
   "metadata": {},
   "outputs": [],
   "source": [
    "n=int(input())\n",
    "i=1\n",
    "while(i<=n):\n",
    "    j=1\n",
    "    while(j<=(n-i)):\n",
    "        print(end=' ')\n",
    "        j+=1\n",
    "    k=1\n",
    "    while(k<=i):\n",
    "        print('*',end='')\n",
    "        k+=1\n",
    "    print()\n",
    "    i+=1\n",
    "    "
   ]
  }
 ],
 "metadata": {
  "kernelspec": {
   "display_name": "Python 3 (ipykernel)",
   "language": "python",
   "name": "python3"
  },
  "language_info": {
   "codemirror_mode": {
    "name": "ipython",
    "version": 3
   },
   "file_extension": ".py",
   "mimetype": "text/x-python",
   "name": "python",
   "nbconvert_exporter": "python",
   "pygments_lexer": "ipython3",
   "version": "3.10.4"
  }
 },
 "nbformat": 4,
 "nbformat_minor": 5
}
